{
 "cells": [
  {
   "cell_type": "code",
   "execution_count": 1,
   "metadata": {},
   "outputs": [
    {
     "data": {
      "application/vnd.jupyter.widget-view+json": {
       "model_id": "c4951c44168d4703962da8276f478527",
       "version_major": 2,
       "version_minor": 0
      },
      "text/plain": [
       "Map(center=[20, 0], controls=(ZoomControl(options=['position', 'zoom_in_text', 'zoom_in_title', 'zoom_out_text…"
      ]
     },
     "metadata": {},
     "output_type": "display_data"
    }
   ],
   "source": [
    "import geopandas as gpd\n",
    "import leafmap as lf\n",
    "\n",
    "# Read the vector file using geopandas\n",
    "vector_file = \"Bhimkhoja/Bhimkhoja_SCP.shp\"\n",
    "gdf = gpd.read_file(vector_file)\n",
    "\n",
    "# Filter the GeoDataFrame based on user input values\n",
    "filtered_gdf = gdf[\n",
    "    (\n",
    "        (gdf['LULC'].str.lower() == 'open forest') & (gdf['TMU'].str.lower() == 'g202o') & (gdf['Structure'] == 'Trench cum bund')\n",
    "    )\n",
    "]\n",
    "filtered_gd = gdf[\n",
    "    (\n",
    "        (gdf['LULC'].str.lower() == 'arable land') & (gdf['TMU'].str.lower() == 'g204a') & (gdf['Structure'] == 'Strengthning of Bund')\n",
    "    )\n",
    "]\n",
    "\n",
    "# Create a Leafmap Map object without the toolbar\n",
    "m = lf.Map(toolbar=False)\n",
    "\n",
    "# Add the filtered vector data to the map with custom style\n",
    "layer_name = \"Filtered Vector Layer\"\n",
    "style = {\"color\": \"#000000\", \"weight\": 1, \"opacity\": 0.7, \"fillColor\": \"#ff8000\"}  # Define the default style for the vector layer\n",
    "\n",
    "m.add_gdf(gdf, layer_name=layer_name, style=style, vector_file=vector_file)\n",
    "\n",
    "if not filtered_gdf.empty:\n",
    "    # Apply style based on the conditions\n",
    "\n",
    "    if (\n",
    "        (filtered_gdf['LULC'].str.lower() == 'open forest') & (filtered_gdf['TMU'].str.lower() == 'g202o') & (filtered_gdf['Structure'] == 'Trench cum bund')\n",
    "    ).any():\n",
    "        style[\"fillColor\"] = \"#FF0080\"  # Blue fill color\n",
    "        style[\"color\"] = \"#FD49A0\"  # Pink outline color\n",
    "        m.add_gdf(filtered_gdf, layer_name=layer_name, style=style, vector_file=vector_file)\n",
    "\n",
    "if not filtered_gd.empty:\n",
    "    # Apply style based on the conditions\n",
    "\n",
    "    if (\n",
    "        (filtered_gd['LULC'].str.lower() == 'arable land') & (filtered_gd['TMU'].str.lower() == 'g204a') & (filtered_gd['Structure'] == 'Strengthning of Bund')\n",
    "    ).any():\n",
    "        style[\"fillColor\"] = \"#00ff00\"  # Green fill color\n",
    "        style[\"color\"] = \"#000000\"  # Black outline color\n",
    "        legend_title = \"STRUCTURE FOUND\"\n",
    "        legend_dict = {\"Strengthning of Bund\": \"#00ff00\",\"Trench cum bund\": \"#FF0080\"}\n",
    "        m.add_legend(legend_title, legend_dict)\n",
    "        m.add_gdf(filtered_gd, layer_name=layer_name, style=style, vector_file=vector_file)\n",
    "\n",
    "# Read and add another shapefile to the map\n",
    "another_vector_file = \"Bhimkhoja/Bhimkhoja_SCP.shp\"  # Provide the path to the other shapefile\n",
    "another_gdf = gpd.read_file(another_vector_file)\n",
    "another_layer_name = \"Another Vector Layer\"\n",
    "another_style = {\"color\": \"#603F8B\", \"weight\": 1, \"opacity\": 0.7, \"fillColor\": \"#ff8000\"}  # Custom style for the other shapefile\n",
    "m.add_gdf(another_gdf, layer_name=another_layer_name, style=another_style, vector_file=another_vector_file)\n",
    "\n",
    "# Display the map\n",
    "m\n"
   ]
  }
 ],
 "metadata": {
  "kernelspec": {
   "display_name": "Python 3",
   "language": "python",
   "name": "python3"
  },
  "language_info": {
   "codemirror_mode": {
    "name": "ipython",
    "version": 3
   },
   "file_extension": ".py",
   "mimetype": "text/x-python",
   "name": "python",
   "nbconvert_exporter": "python",
   "pygments_lexer": "ipython3",
   "version": "3.11.1"
  },
  "orig_nbformat": 4
 },
 "nbformat": 4,
 "nbformat_minor": 2
}
